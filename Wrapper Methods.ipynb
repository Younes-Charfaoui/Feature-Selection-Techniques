{
 "cells": [
  {
   "cell_type": "code",
   "execution_count": null,
   "metadata": {},
   "outputs": [],
   "source": [
    "import pandas as pd\n",
    "import numpy as np\n",
    "import seaborn as sns\n",
    "import matplotlib.pyplot as plt"
   ]
  },
  {
   "cell_type": "code",
   "execution_count": null,
   "metadata": {},
   "outputs": [],
   "source": [
    "data = pd.read_csv('data/housing.csv')"
   ]
  },
  {
   "cell_type": "code",
   "execution_count": null,
   "metadata": {},
   "outputs": [],
   "source": [
    "data = pd.get_dummies(data)"
   ]
  },
  {
   "cell_type": "code",
   "execution_count": null,
   "metadata": {},
   "outputs": [],
   "source": [
    "from sklearn.model_selection import train_test_split\n",
    "x_train, x_test, y_train, y_test = train_test_split(data.drop(['SalePrice'], axis=1), \n",
    "                                                    data.SalePrice, test_size=0.3, \n",
    "                                                    random_state=0)"
   ]
  },
  {
   "cell_type": "markdown",
   "metadata": {},
   "source": [
    "# ExhaustiveSearch"
   ]
  },
  {
   "cell_type": "code",
   "execution_count": null,
   "metadata": {},
   "outputs": [],
   "source": [
    "from mlxtend.feature_selection import ExhaustiveFeatureSelector\n",
    "           \n",
    "# import the algorithm you want to evaluate on your features.\n",
    "from sklearn.ensemble import RandomForestRegressor\n",
    "\n",
    "# create the ExhaustiveFeatureSelector object.\n",
    "efs = ExhaustiveFeatureSelector(RandomForestClassifier(), \n",
    "           min_features=4,\n",
    "           max_features=10, \n",
    "           scoring='neg_mean_squared_error',\n",
    "           cv=2)"
   ]
  },
  {
   "cell_type": "code",
   "execution_count": null,
   "metadata": {},
   "outputs": [],
   "source": [
    "# fit the object to the training data.\n",
    "efs = efs.fit(x_train, y_train)"
   ]
  },
  {
   "cell_type": "code",
   "execution_count": null,
   "metadata": {},
   "outputs": [],
   "source": [
    "# print the selected features.\n",
    "selected_features = x_train.columns[list(efs.k_feature_idx_)]\n",
    "print(selected_features)\n",
    "\n",
    "# print the final prediction score.\n",
    "print(efs.k_score_)\n",
    "\n",
    "# transform our data to the newly selected features.\n",
    "x_train_sfs = efs.transform(x_train)\n",
    "x_test_sfs = efs.transform(x_test)"
   ]
  },
  {
   "cell_type": "markdown",
   "metadata": {},
   "source": [
    "# StepBackward"
   ]
  },
  {
   "cell_type": "code",
   "execution_count": null,
   "metadata": {},
   "outputs": [],
   "source": [
    "from mlxtend.feature_selection import SequentialFeatureSelector\n",
    "\n",
    "# import the algorithm you want to evaluate on your features.\n",
    "from sklearn.ensemble import RandomForestRegressor\n",
    "\n",
    "# just set forward=False for backward feature selection.\n",
    "# create theSequentialFeatureSelector object, and configure the parameters.\n",
    "sbs = SequentialFeatureSelector(RandomForestClassifier(), \n",
    "           k_features=10, \n",
    "           forward=False, \n",
    "           floating=False,\n",
    "           scoring='accuracy',\n",
    "           cv=2)"
   ]
  },
  {
   "cell_type": "code",
   "execution_count": null,
   "metadata": {},
   "outputs": [],
   "source": [
    "# fit the object to our training data.\n",
    "sbs = sbs.fit(x_train, y_train)"
   ]
  },
  {
   "cell_type": "code",
   "execution_count": null,
   "metadata": {},
   "outputs": [],
   "source": [
    "# print the selected features. \n",
    "selected_features = x_train.columns[list(sbs.k_feature_idx_)]\n",
    "print(selected_features)\n",
    "\n",
    "# print the final prediction score.\n",
    "print(sbs.k_score_)\n",
    "\n",
    "# transform to the newly selected features.\n",
    "x_train_sfs = sbs.transform(x_train)\n",
    "x_test_sfs = sbs.transform(x_test)"
   ]
  },
  {
   "cell_type": "markdown",
   "metadata": {},
   "source": [
    "# StepForward"
   ]
  },
  {
   "cell_type": "code",
   "execution_count": null,
   "metadata": {},
   "outputs": [],
   "source": [
    "from mlxtend.feature_selection import SequentialFeatureSelector\n",
    "\n",
    "# import the algorithm you want to evaluate on your features.\n",
    "from sklearn.ensemble import RandomForestRegressor\n",
    "\n",
    "# create the SequentialFeatureSelector object, and configure the parameters.\n",
    "sfs = SequentialFeatureSelector(RandomForestRegressor(), \n",
    "           k_features=10, \n",
    "           forward=True, \n",
    "           floating=False,\n",
    "           scoring='accuracy',\n",
    "           cv=2)"
   ]
  },
  {
   "cell_type": "code",
   "execution_count": null,
   "metadata": {},
   "outputs": [],
   "source": [
    "# fit the object to the training data.\n",
    "sfs = sfs.fit(x_train, y_train)"
   ]
  },
  {
   "cell_type": "code",
   "execution_count": null,
   "metadata": {},
   "outputs": [],
   "source": [
    "# print the selected features.\n",
    "selected_features = x_train.columns[list(sfs.k_feature_idx_)]\n",
    "print(selected_features)\n",
    "\n",
    "# print the final prediction score.\n",
    "print(sfs.k_score_)\n",
    "\n",
    "# transform to the newly selected features.\n",
    "x_train_sfs = sfs.transform(x_train)\n",
    "x_test_sfs = sfs.transform(x_test)"
   ]
  }
 ],
 "metadata": {
  "kernelspec": {
   "display_name": "Python 3",
   "language": "python",
   "name": "python3"
  },
  "language_info": {
   "codemirror_mode": {
    "name": "ipython",
    "version": 3
   },
   "file_extension": ".py",
   "mimetype": "text/x-python",
   "name": "python",
   "nbconvert_exporter": "python",
   "pygments_lexer": "ipython3",
   "version": "3.6.9"
  }
 },
 "nbformat": 4,
 "nbformat_minor": 2
}
