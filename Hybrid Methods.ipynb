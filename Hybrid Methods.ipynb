{
 "cells": [
  {
   "cell_type": "code",
   "execution_count": null,
   "metadata": {},
   "outputs": [],
   "source": [
    "import pandas as pd\n",
    "import numpy as np\n",
    "import seaborn as sns\n",
    "import matplotlib.pyplot as plt"
   ]
  },
  {
   "cell_type": "code",
   "execution_count": null,
   "metadata": {},
   "outputs": [],
   "source": [
    "data = pd.read_csv('data/housing.csv')"
   ]
  },
  {
   "cell_type": "code",
   "execution_count": null,
   "metadata": {},
   "outputs": [],
   "source": [
    "data = pd.get_dummies(data)"
   ]
  },
  {
   "cell_type": "code",
   "execution_count": null,
   "metadata": {},
   "outputs": [],
   "source": [
    "from sklearn.model_selection import train_test_split\n",
    "x_train, x_test, y_train, y_test = train_test_split(data.drop(['SalePrice'], axis=1), \n",
    "                                                    data.SalePrice, test_size=0.3, \n",
    "                                                    random_state=0)"
   ]
  },
  {
   "cell_type": "markdown",
   "metadata": {},
   "source": [
    "# Recursive Feature Elimination"
   ]
  },
  {
   "cell_type": "code",
   "execution_count": null,
   "metadata": {},
   "outputs": [],
   "source": [
    "from sklearn.feature_selection import RFECV\n",
    "\n",
    "# use any other model you want here.\n",
    "from sklearn.ensemble import RandomForestRegressor\n",
    "\n",
    "model = RandomForestRegressor(n_estimators=411)\n",
    "\n",
    "# build the RFE with CV option.\n",
    "rfe = RFECV(model, min_features_to_select = 3, step = 1 , cv=5, scoring='accuracy')"
   ]
  },
  {
   "cell_type": "code",
   "execution_count": null,
   "metadata": {},
   "outputs": [],
   "source": [
    "# fit the RFE to our data.\n",
    "selection  = rfe.fit(x_train, y_train)\n",
    "\n",
    "# print the selected features.\n",
    "print(x_train.columns[selection.support_]) "
   ]
  },
  {
   "cell_type": "markdown",
   "metadata": {},
   "source": [
    "# Recursive Feature Addition"
   ]
  },
  {
   "cell_type": "code",
   "execution_count": null,
   "metadata": {},
   "outputs": [],
   "source": [
    "from sklearn.ensemble import RandomForestRegressor\n",
    "from sklearn.metrics import mean_squared_error \n",
    "\n",
    "# array to hold the feature to be keept.\n",
    "features_to_keep = [x_train.columns[0]]\n",
    "\n",
    "# set this value according to you.\n",
    "threshold = 0.002\n",
    "\n",
    "# create your prefered model and  fit it to the training data.\n",
    "model_one_feature = RandomForestRegressor(n_estimators=332)\n",
    "model_one_feature.fit(x_train[[x_train.columns[0]]], y_train)\n",
    "\n",
    "# evaluate against your metric.\n",
    "y_pred_test = model_one_feature.predict(x_test[[x_train.columns[0]]])\n",
    "mse_score_all = mean_squared_error(y_test, y_pred_test)"
   ]
  },
  {
   "cell_type": "code",
   "execution_count": null,
   "metadata": {},
   "outputs": [],
   "source": [
    "# start iterating from the feature.\n",
    "for feature in x_train.columns[1:]:\n",
    "    \n",
    "    model = RandomForestRegressor(n_estimators=332)\n",
    "    \n",
    "    # fit model with  the selected features and the feature to be evaluated\n",
    "    model.fit(x_train[features_to_keep + [feature]], y_train)\n",
    "    y_pred_test = model.predict(x_test[features_to_keep + [feature]])\n",
    "    mse_score_int = mean_squared_error(y_test, y_pred_test)\n",
    "\n",
    "    # determine the drop in the roc-auc\n",
    "    diff_auc = mse_score_int - mse_score_all\n",
    "\n",
    "    # compare the drop in roc-auc with the threshold\n",
    "    if diff_auc >= threshold:\n",
    "        \n",
    "        # if the increase in the roc is bigger than the threshold\n",
    "        # we keep the feature and re-adjust the roc-auc to the new value\n",
    "        # considering the added feature\n",
    "        mse_score_all = amse_score_int\n",
    "        features_to_keep.append(feature)"
   ]
  },
  {
   "cell_type": "code",
   "execution_count": null,
   "metadata": {},
   "outputs": [],
   "source": [
    "# print the feature to keep.\n",
    "print(features_to_keep)"
   ]
  }
 ],
 "metadata": {
  "kernelspec": {
   "display_name": "Python 3",
   "language": "python",
   "name": "python3"
  },
  "language_info": {
   "codemirror_mode": {
    "name": "ipython",
    "version": 3
   },
   "file_extension": ".py",
   "mimetype": "text/x-python",
   "name": "python",
   "nbconvert_exporter": "python",
   "pygments_lexer": "ipython3",
   "version": "3.6.9"
  }
 },
 "nbformat": 4,
 "nbformat_minor": 2
}
